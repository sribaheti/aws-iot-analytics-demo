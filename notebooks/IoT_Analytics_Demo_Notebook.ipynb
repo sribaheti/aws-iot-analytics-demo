{
 "cells": [
  {
   "cell_type": "markdown",
   "source": [
    "<p>\n",
    "    <img src=\"https://s3.amazonaws.com/iotanalytics-templates/Logo.png\" style=\"float:left;width:65px\">\n",
    "    <h1 style=\"float:left;color:#1A5276;padding-left:15px;font-size:20px;\">AWS IoT Analytics | Notebook</h1>\n",
    "</p>"
   ],
   "metadata": {
    "collapsed": false
   }
  },
  {
   "cell_type": "markdown",
   "metadata": {
    "pycharm": {
     "name": "#%% md\n"
    }
   },
   "source": [
    "Demonstration of [AWS IoT Analytics](https://aws.amazon.com/iot-analytics/) Notebooks, using sample sensor data. Notebook uses [pandas](https://pandas.pydata.org/) for data analysis and manipulation, and [matplotlob](https://matplotlib.org/) and [plotly](https://github.com/plotly/plotly.py) for visualization.\n"
   ]
  },
  {
   "cell_type": "code",
   "execution_count": null,
   "metadata": {},
   "outputs": [],
   "source": [
    "import sys\n",
    "\n",
    "import boto3\n",
    "import matplotlib.pyplot as plt\n",
    "import pandas as pd\n",
    "import plotly.express as px\n",
    "from matplotlib.dates import DateFormatter\n",
    "from pandas.plotting import register_matplotlib_converters"
   ]
  },
  {
   "cell_type": "code",
   "execution_count": null,
   "metadata": {},
   "outputs": [],
   "source": [
    "# constants\n",
    "MY_TIMEZONE='US/Eastern' # update to your local timezone or use 'UTC'\n",
    "DATETIME_FORMAT='%y-%m-%d %H:%M' # update to your local date/time format"
   ]
  },
  {
   "cell_type": "code",
   "execution_count": null,
   "metadata": {},
   "outputs": [],
   "source": [
    "def parse(x):\n",
    "    x = pd.to_datetime(x, infer_datetime_format=True, unit='s', utc=True)\n",
    "    x = x.tz_convert(MY_TIMEZONE)\n",
    "    return x"
   ]
  },
  {
   "cell_type": "code",
   "execution_count": null,
   "metadata": {},
   "outputs": [],
   "source": [
    "%%time\n",
    "\n",
    "client = boto3.client('iotanalytics')\n",
    "nrows_read = None # specify 'None' if want to read whole data set (10k records)\n",
    "dataset = 'iot_analytics_data_set'\n",
    "data_location = client.get_dataset_content(datasetName=dataset)['entries'][0]['dataURI']\n",
    "\n",
    "df = pd.read_csv(data_location,\n",
    "                 nrows=nrows_read,\n",
    "                 header=0,\n",
    "                 low_memory=False,\n",
    "                 infer_datetime_format=True,\n",
    "                 date_parser=parse,\n",
    "                 index_col=['ts'])"
   ]
  },
  {
   "cell_type": "code",
   "execution_count": null,
   "metadata": {},
   "outputs": [],
   "source": [
    "# clean up the DataFrame\n",
    "df = df.drop(columns='__dt')\n",
    "df = df.sort_values(by='ts', ascending=True)"
   ]
  },
  {
   "cell_type": "code",
   "execution_count": null,
   "metadata": {},
   "outputs": [],
   "source": [
    "# transform metadata attribute, from device registry, to valid json object\n",
    "df['metadata'].replace('{','{\"',regex=True, inplace = True)\n",
    "df['metadata'].replace('=','\":\"',regex=True, inplace = True)\n",
    "df['metadata'].replace(', ','\",\"',regex=True, inplace = True)\n",
    "df['metadata'].replace(':\"{\"',':{\"',regex=True, inplace = True)\n",
    "df['metadata'].replace('}\",','},',regex=True, inplace = True)\n",
    "df['metadata'].replace('}','\"}',regex=True, inplace = True)"
   ]
  },
  {
   "cell_type": "code",
   "execution_count": null,
   "metadata": {},
   "outputs": [],
   "source": [
    "display(df.tail(5))"
   ]
  },
  {
   "cell_type": "code",
   "execution_count": null,
   "metadata": {},
   "outputs": [],
   "source": [
    "# filter temp/humidity outliers (>1% & <99%)\n",
    "df = df.loc[df['temp'] > df.groupby('device').temp.transform(lambda x: x.quantile(.01))]\n",
    "df = df.loc[df['temp'] < df.groupby('device').temp.transform(lambda x: x.quantile(.99))]\n",
    "\n",
    "df = df.loc[df['humidity'] > df.groupby('device').humidity.transform(lambda x: x.quantile(.01))]\n",
    "df = df.loc[df['humidity'] < df.groupby('device').humidity.transform(lambda x: x.quantile(.99))]"
   ]
  },
  {
   "cell_type": "code",
   "execution_count": null,
   "metadata": {},
   "outputs": [],
   "source": [
    "# group by device\n",
    "groups = df.groupby('device')"
   ]
  },
  {
   "cell_type": "code",
   "execution_count": null,
   "metadata": {},
   "outputs": [],
   "source": [
    "print('DataFrame Stats')\n",
    "print('-------------')\n",
    "print('Record count: {:,}'.format(df['temp'].count()))\n",
    "print('DataFrame size (MB): {:,.2f}'.format(sys.getsizeof(df)/1024/1024))\n",
    "print('-------------')\n",
    "print('Time range (min): {:%Y-%m-%d %H:%M:%S %Z}'.format(df.index[1]))\n",
    "print('Time range (max): {:%Y-%m-%d %H:%M:%S %Z}'.format(df.index[-1]))\n",
    "print('Temperature (min): {:.2f}'.format(df['temp'].min()))\n",
    "print('Temperature (max): {:.2f}'.format(df['temp'].max()))\n",
    "print('Humidity (min): {:.2f}{}'.format(df['humidity'].min(), '%'))\n",
    "print('Humidity (max): {:.2f}{}'.format(df['humidity'].max(), '%'))\n",
    "print('-------------')\n",
    "print('Record count:\\n{}'.format(groups.size()))\n",
    "# print('Temperature (min):\\n{}'.format(groups['temp'].min()))\n",
    "# print('Temperature (max):\\n{}'.format(groups['temp'].max()))\n",
    "# print('Humidity (min)\\n{}'.format(groups['humidity'].min()))\n",
    "# print('Humidity (max):\\n{}'.format(groups['humidity'].max()))"
   ]
  },
  {
   "cell_type": "code",
   "execution_count": null,
   "metadata": {},
   "outputs": [],
   "source": [
    "# example of extracting value from metadata attribute\n",
    "metadata = pd.read_json(df['metadata'][0], orient='records', typ='series')\n",
    "print(metadata['thingname'])"
   ]
  },
  {
   "cell_type": "code",
   "execution_count": null,
   "metadata": {},
   "outputs": [],
   "source": [
    "# matplotlib datetime config\n",
    "plt.rcParams['timezone']=MY_TIMEZONE\n",
    "register_matplotlib_converters()\n",
    "myFmt = DateFormatter(DATETIME_FORMAT)"
   ]
  },
  {
   "cell_type": "markdown",
   "metadata": {},
   "source": [
    "### Scatter Plot using Matplotlib\n",
    "Using [Matplotlib: Visualization with Python](https://matplotlib.org/)"
   ]
  },
  {
   "cell_type": "code",
   "execution_count": null,
   "metadata": {},
   "outputs": [],
   "source": [
    "_, ax = plt.subplots(1, 1, figsize=(18, 9))\n",
    "for device, group in groups:\n",
    "    ax.plot(group.temp,\n",
    "            group.humidity,\n",
    "            marker='o',\n",
    "            linestyle='',\n",
    "            alpha=.5,\n",
    "            ms=10,\n",
    "            label=device)\n",
    "ax.grid()\n",
    "ax.margins(0.05)\n",
    "ax.legend()\n",
    "plt.title('Temperature vs. Humidity')\n",
    "plt.xlabel('Temperature (˚F)')\n",
    "plt.ylabel('Humidity (%)')\n",
    "plt.show()"
   ]
  },
  {
   "cell_type": "markdown",
   "metadata": {
    "pycharm": {
     "name": "#%% md\n"
    }
   },
   "source": [
    "### Temperature Graph using Moving Average\n",
    "Smoothing data using the mean average of a 1 minute rolling window.  \n",
    "1 minutes == (20) data-points @ 3 second intervals"
   ]
  },
  {
   "cell_type": "code",
   "execution_count": null,
   "metadata": {
    "collapsed": false,
    "jupyter": {
     "outputs_hidden": false
    },
    "pycharm": {
     "name": "#%%\n"
    }
   },
   "outputs": [],
   "source": [
    "fig, ax = plt.subplots(1, 1, figsize=(18, 9))\n",
    "for device, group in groups:\n",
    "    group.mean = group.temp.rolling(window=20).mean()\n",
    "    ax.plot(group.mean,\n",
    "            label=device)\n",
    "fig.autofmt_xdate()\n",
    "ax.xaxis.set_major_formatter(myFmt)\n",
    "ax.grid()\n",
    "ax.margins(0.05)\n",
    "ax.legend()\n",
    "plt.title('Temperature Comparison over Time')\n",
    "plt.ylabel('Temperature (˚F)')\n",
    "plt.xlabel('Time')\n",
    "plt.show()"
   ]
  },
  {
   "cell_type": "markdown",
   "metadata": {},
   "source": [
    "### Humidity Graph using Moving Average\n",
    "Smoothing data using the mean average of a 1 minute rolling window (moving average).  \n",
    "1 minutes == (20) data-points @ 3 second intervals"
   ]
  },
  {
   "cell_type": "code",
   "execution_count": null,
   "metadata": {},
   "outputs": [],
   "source": [
    "fig, ax = plt.subplots(1, 1, figsize=(18, 9))\n",
    "for device, group in groups:\n",
    "    group.mean = group.humidity.rolling(window=20).mean()\n",
    "    ax.plot(group.mean,\n",
    "            label=device)\n",
    "fig.autofmt_xdate()\n",
    "ax.xaxis.set_major_formatter(myFmt)\n",
    "ax.grid()\n",
    "ax.margins(0.05)\n",
    "ax.legend()\n",
    "plt.title('Humidity Comparison over Time')\n",
    "plt.ylabel('Humidity (%)')\n",
    "plt.xlabel('Time')\n",
    "plt.show()"
   ]
  },
  {
   "cell_type": "markdown",
   "metadata": {},
   "source": [
    "#### Plotly vs. Matplotlib for Graphing\n",
    "Graphs using [Plotly Python Open Source Graphing Library](https://plotly.com/python/)"
   ]
  },
  {
   "cell_type": "code",
   "execution_count": null,
   "metadata": {},
   "outputs": [],
   "source": [
    "# strip timezone info so Plotly won't convert to UTC\n",
    "df.index = df.index.tz_localize(None)"
   ]
  },
  {
   "cell_type": "code",
   "execution_count": null,
   "metadata": {},
   "outputs": [],
   "source": [
    "fig = px.scatter(df,\n",
    "                 x='temp',\n",
    "                 y='humidity',\n",
    "                 color='device',\n",
    "                 hover_name='device',\n",
    "                 trendline='ols',\n",
    "                 render_mode='svg',\n",
    "                 hover_data={'device': False, 'temp':':.2f', 'humidity':':.2f'})\n",
    "\n",
    "fig.update_layout(title='Temperature vs. Humidity',\n",
    "                  xaxis_title='Temperature (˚F)',\n",
    "                  yaxis_title='Humidity (%)',\n",
    "                  template='ggplot2')\n",
    "\n",
    "fig.show()"
   ]
  },
  {
   "cell_type": "code",
   "execution_count": null,
   "metadata": {},
   "outputs": [],
   "source": [
    "fig = px.line(df,\n",
    "              x=df.index.values,\n",
    "              y='temp',\n",
    "              color='device',\n",
    "              render_mode='svg',\n",
    "              hover_name='device',\n",
    "              hover_data={'device': False,\n",
    "                             'temp':':.2f'})\n",
    "\n",
    "fig.update_layout(title='Temperature Comparison over Time',\n",
    "                  xaxis_title='Date/Time',\n",
    "                  yaxis_title='Temperature (˚F)',\n",
    "                  template='ggplot2')\n",
    "\n",
    "fig.show()"
   ]
  },
  {
   "cell_type": "code",
   "execution_count": null,
   "metadata": {
    "pycharm": {
     "name": "#%%\n"
    }
   },
   "outputs": [],
   "source": [
    "fig = px.line(df,\n",
    "              x=df.index.values,\n",
    "              y='humidity',\n",
    "              color='device',\n",
    "              render_mode='svg',\n",
    "              hover_name='device',\n",
    "              hover_data={'device': False,\n",
    "                          'humidity':':.2f'})\n",
    "\n",
    "fig.update_layout(title='Humidity Comparison over Time',\n",
    "                  xaxis_title='Time',\n",
    "                  yaxis_title='Humidity (%)',\n",
    "                  template='ggplot2')\n",
    "\n",
    "fig.show()"
   ]
  },
  {
   "cell_type": "code",
   "execution_count": null,
   "metadata": {},
   "outputs": [],
   "source": [
    "fig = px.line(df,\n",
    "              x=df.index.values,\n",
    "              y='humidity',\n",
    "              color='device',\n",
    "              render_mode='svg',\n",
    "              hover_name='device',\n",
    "              hover_data={'device': False,\n",
    "                          'humidity':':.2f'})\n",
    "\n",
    "fig.update_layout(title='Humidity Comparison over Time',\n",
    "                  xaxis_title='Time',\n",
    "                  yaxis_title='Humidity (%)',\n",
    "                  template='ggplot2')\n",
    "\n",
    "fig.show()"
   ]
  },
  {
   "cell_type": "markdown",
   "source": [
    "<div style=\"height:60px;\"><div style=\"height:7px;background-color:#20B3CD;width:100%;margin-top:20px;position:relative;\"><img src=\"https://s3.amazonaws.com/iotanalytics-templates/Logo.png\" style=\"height:50px;width:50px;margin-top:-20px;position:absolute;margin-left:42%;\"></div></div>"
   ],
   "metadata": {
    "collapsed": false
   }
  }
 ],
 "metadata": {
  "kernelspec": {
   "display_name": "conda_python3",
   "language": "python",
   "name": "conda_python3"
  },
  "language_info": {
   "codemirror_mode": {
    "name": "ipython",
    "version": 3
   },
   "file_extension": ".py",
   "mimetype": "text/x-python",
   "name": "python",
   "nbconvert_exporter": "python",
   "pygments_lexer": "ipython3",
   "version": "3.6.10"
  },
  "toc-autonumbering": false,
  "toc-showmarkdowntxt": true,
  "toc-showtags": false
 },
 "nbformat": 4,
 "nbformat_minor": 4
}
